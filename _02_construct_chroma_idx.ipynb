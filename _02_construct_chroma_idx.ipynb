{
 "cells": [
  {
   "cell_type": "code",
   "execution_count": 21,
   "id": "initial_id",
   "metadata": {
    "collapsed": true,
    "ExecuteTime": {
     "end_time": "2024-03-03T19:47:04.669232Z",
     "start_time": "2024-03-03T19:47:04.664731Z"
    }
   },
   "outputs": [],
   "source": [
    "import pandas as pd\n",
    "import chromadb\n",
    "from tqdm import tqdm\n",
    "from transformers import pipeline"
   ]
  },
  {
   "cell_type": "markdown",
   "source": [
    "# Initialize the client"
   ],
   "metadata": {
    "collapsed": false
   },
   "id": "5ffe183f84ad895"
  },
  {
   "cell_type": "code",
   "outputs": [],
   "source": [
    "client = chromadb.PersistentClient(path=\"idx/icd11\",\n",
    "                                   settings=chromadb.Settings(allow_reset=True))"
   ],
   "metadata": {
    "collapsed": false,
    "ExecuteTime": {
     "end_time": "2024-03-03T18:48:18.973918Z",
     "start_time": "2024-03-03T18:48:18.646758Z"
    }
   },
   "id": "36bfd5b9b53d5b09",
   "execution_count": 2
  },
  {
   "cell_type": "code",
   "outputs": [
    {
     "data": {
      "text/plain": "True"
     },
     "execution_count": 3,
     "metadata": {},
     "output_type": "execute_result"
    }
   ],
   "source": [
    "client.heartbeat()\n",
    "client.reset()"
   ],
   "metadata": {
    "collapsed": false,
    "ExecuteTime": {
     "end_time": "2024-03-03T18:48:19.247108Z",
     "start_time": "2024-03-03T18:48:18.974923Z"
    }
   },
   "id": "546e7cb3ef5d444d",
   "execution_count": 3
  },
  {
   "cell_type": "markdown",
   "source": [
    "# Load the data"
   ],
   "metadata": {
    "collapsed": false
   },
   "id": "b18610f0a761433b"
  },
  {
   "cell_type": "code",
   "outputs": [
    {
     "data": {
      "text/plain": "   Code                                              Title ClassKind  \\\n0                 Certain infectious or parasitic diseases   chapter   \n1        - Gastroenteritis or colitis of infectious origin     block   \n2                      - - Bacterial intestinal infections     block   \n3  1A00                                      - - - Cholera  category   \n4  1A01     - - - Intestinal infection due to other Vibrio  category   \n\n   DepthInKind  IsResidual                                        BrowserLink  \\\n0            1       False  https://icd.who.int/browse11/l-m/en#/http%3A%2...   \n1            1       False  https://icd.who.int/browse11/l-m/en#/http%3A%2...   \n2            2       False  https://icd.who.int/browse11/l-m/en#/http%3A%2...   \n3            1       False  https://icd.who.int/browse11/l-m/en#/http%3A%2...   \n4            1       False  https://icd.who.int/browse11/l-m/en#/http%3A%2...   \n\n   isLeaf  \n0   False  \n1   False  \n2   False  \n3    True  \n4    True  ",
      "text/html": "<div>\n<style scoped>\n    .dataframe tbody tr th:only-of-type {\n        vertical-align: middle;\n    }\n\n    .dataframe tbody tr th {\n        vertical-align: top;\n    }\n\n    .dataframe thead th {\n        text-align: right;\n    }\n</style>\n<table border=\"1\" class=\"dataframe\">\n  <thead>\n    <tr style=\"text-align: right;\">\n      <th></th>\n      <th>Code</th>\n      <th>Title</th>\n      <th>ClassKind</th>\n      <th>DepthInKind</th>\n      <th>IsResidual</th>\n      <th>BrowserLink</th>\n      <th>isLeaf</th>\n    </tr>\n  </thead>\n  <tbody>\n    <tr>\n      <th>0</th>\n      <td></td>\n      <td>Certain infectious or parasitic diseases</td>\n      <td>chapter</td>\n      <td>1</td>\n      <td>False</td>\n      <td>https://icd.who.int/browse11/l-m/en#/http%3A%2...</td>\n      <td>False</td>\n    </tr>\n    <tr>\n      <th>1</th>\n      <td></td>\n      <td>- Gastroenteritis or colitis of infectious origin</td>\n      <td>block</td>\n      <td>1</td>\n      <td>False</td>\n      <td>https://icd.who.int/browse11/l-m/en#/http%3A%2...</td>\n      <td>False</td>\n    </tr>\n    <tr>\n      <th>2</th>\n      <td></td>\n      <td>- - Bacterial intestinal infections</td>\n      <td>block</td>\n      <td>2</td>\n      <td>False</td>\n      <td>https://icd.who.int/browse11/l-m/en#/http%3A%2...</td>\n      <td>False</td>\n    </tr>\n    <tr>\n      <th>3</th>\n      <td>1A00</td>\n      <td>- - - Cholera</td>\n      <td>category</td>\n      <td>1</td>\n      <td>False</td>\n      <td>https://icd.who.int/browse11/l-m/en#/http%3A%2...</td>\n      <td>True</td>\n    </tr>\n    <tr>\n      <th>4</th>\n      <td>1A01</td>\n      <td>- - - Intestinal infection due to other Vibrio</td>\n      <td>category</td>\n      <td>1</td>\n      <td>False</td>\n      <td>https://icd.who.int/browse11/l-m/en#/http%3A%2...</td>\n      <td>True</td>\n    </tr>\n  </tbody>\n</table>\n</div>"
     },
     "execution_count": 4,
     "metadata": {},
     "output_type": "execute_result"
    }
   ],
   "source": [
    "icd = pd.read_csv(\"data/ICD-11-MMS-en-cleaned.csv.zip\").fillna('')\n",
    "icd.head()"
   ],
   "metadata": {
    "collapsed": false,
    "ExecuteTime": {
     "end_time": "2024-03-03T18:48:19.428019Z",
     "start_time": "2024-03-03T18:48:19.248116Z"
    }
   },
   "id": "7847532a2e705837",
   "execution_count": 4
  },
  {
   "cell_type": "code",
   "outputs": [
    {
     "data": {
      "text/plain": "['Certain infectious or parasitic diseases',\n 'Gastroenteritis or colitis of infectious origin',\n 'Bacterial intestinal infections',\n 'Cholera',\n 'Intestinal infection due to other Vibrio']"
     },
     "execution_count": 15,
     "metadata": {},
     "output_type": "execute_result"
    }
   ],
   "source": [
    "titles = icd[\"Title\"].tolist()\n",
    "titles = [t.lstrip('- ') for t in titles if t]\n",
    "titles[:5]"
   ],
   "metadata": {
    "collapsed": false,
    "ExecuteTime": {
     "end_time": "2024-03-03T19:38:32.227997Z",
     "start_time": "2024-03-03T19:38:32.212357Z"
    }
   },
   "id": "8fb96568d64f9f71",
   "execution_count": 15
  },
  {
   "cell_type": "code",
   "outputs": [
    {
     "data": {
      "text/plain": "(212, 30)"
     },
     "execution_count": 18,
     "metadata": {},
     "output_type": "execute_result"
    }
   ],
   "source": [
    "max_len_chars = max(len(t) for t in titles)\n",
    "max_len_words = max(len(t.split()) for t in titles)\n",
    "max_len_chars, max_len_words"
   ],
   "metadata": {
    "collapsed": false,
    "ExecuteTime": {
     "end_time": "2024-03-03T19:39:26.284876Z",
     "start_time": "2024-03-03T19:39:26.262324Z"
    }
   },
   "id": "75c7d914882c8982",
   "execution_count": 18
  },
  {
   "cell_type": "code",
   "outputs": [],
   "source": [
    "icd[\"cleaned_title\"] = icd[\"Title\"].str.lstrip('- ')"
   ],
   "metadata": {
    "collapsed": false,
    "ExecuteTime": {
     "end_time": "2024-03-03T19:40:18.877491Z",
     "start_time": "2024-03-03T19:40:18.859718Z"
    }
   },
   "id": "b5b096839c7f88d2",
   "execution_count": 19
  },
  {
   "cell_type": "markdown",
   "source": [
    "# Load the vectorizer\n",
    "Using the pipelines discussed in https://stackoverflow.com/questions/64685243/getting-sentence-embedding-from-huggingface-feature-extraction-pipeline"
   ],
   "metadata": {
    "collapsed": false
   },
   "id": "9d90f822a255bf85"
  },
  {
   "cell_type": "code",
   "outputs": [],
   "source": [
    "extractor = pipeline(model=\"AkshatSurolia/ICD-10-Code-Prediction\", task=\"feature-extraction\")"
   ],
   "metadata": {
    "collapsed": false,
    "ExecuteTime": {
     "end_time": "2024-03-03T19:31:31.526517Z",
     "start_time": "2024-03-03T19:31:29.734689Z"
    }
   },
   "id": "bb0d08211cbf9fe9",
   "execution_count": 9
  },
  {
   "cell_type": "code",
   "outputs": [
    {
     "data": {
      "text/plain": "torch.Size([1, 7, 768])"
     },
     "execution_count": 12,
     "metadata": {},
     "output_type": "execute_result"
    }
   ],
   "source": [
    "result = extractor(\"Bacterial intestinal infections\", return_tensors=True)\n",
    "result.shape"
   ],
   "metadata": {
    "collapsed": false,
    "ExecuteTime": {
     "end_time": "2024-03-03T19:33:42.222089Z",
     "start_time": "2024-03-03T19:33:42.162072Z"
    }
   },
   "id": "bd2874c60eabeac3",
   "execution_count": 12
  },
  {
   "cell_type": "code",
   "outputs": [
    {
     "data": {
      "text/plain": "torch.Size([768])"
     },
     "execution_count": 13,
     "metadata": {},
     "output_type": "execute_result"
    }
   ],
   "source": [
    "sentence_embedding = result[0].mean(dim=0)\n",
    "sentence_embedding.shape"
   ],
   "metadata": {
    "collapsed": false,
    "ExecuteTime": {
     "end_time": "2024-03-03T19:33:44.638208Z",
     "start_time": "2024-03-03T19:33:44.631993Z"
    }
   },
   "id": "21e9ff61d538a869",
   "execution_count": 13
  },
  {
   "cell_type": "code",
   "outputs": [
    {
     "data": {
      "text/plain": "torch.Size([768])"
     },
     "execution_count": 14,
     "metadata": {},
     "output_type": "execute_result"
    }
   ],
   "source": [
    "sentence_embedding2 = result[0][0]\n",
    "sentence_embedding2.shape"
   ],
   "metadata": {
    "collapsed": false,
    "ExecuteTime": {
     "end_time": "2024-03-03T19:33:45.564140Z",
     "start_time": "2024-03-03T19:33:45.554648Z"
    }
   },
   "id": "9bf3d83907063ba1",
   "execution_count": 14
  },
  {
   "cell_type": "markdown",
   "source": [
    "# Create the index"
   ],
   "metadata": {
    "collapsed": false
   },
   "id": "21b8ccb14aa0470e"
  },
  {
   "cell_type": "code",
   "outputs": [],
   "source": [
    "collection = client.create_collection(\n",
    "    name=\"icd11_titles\", \n",
    "    # metadata={\"hnsw:space\": \"cosine\"},\n",
    ")"
   ],
   "metadata": {
    "collapsed": false,
    "ExecuteTime": {
     "end_time": "2024-03-03T19:45:40.542775Z",
     "start_time": "2024-03-03T19:45:40.483872Z"
    }
   },
   "id": "43b7c3a388c91c4c",
   "execution_count": 20
  },
  {
   "cell_type": "code",
   "outputs": [
    {
     "name": "stderr",
     "output_type": "stream",
     "text": [
      "100%|██████████| 36044/36044 [41:34<00:00, 14.45it/s]  \n"
     ]
    }
   ],
   "source": [
    "# client.reset()\n",
    "for n, row in tqdm(icd.iterrows(), total=len(icd)):\n",
    "    if not row['Code']:\n",
    "        continue\n",
    "    document = row['cleaned_title']\n",
    "    embedding = extractor(document, return_tensors=True)[0].mean(dim=0).numpy().tolist()\n",
    "    id_ = row['Code']\n",
    "    collection.upsert(documents=[document], ids=[id_], embeddings=[embedding])"
   ],
   "metadata": {
    "collapsed": false,
    "ExecuteTime": {
     "end_time": "2024-03-03T20:38:43.157066Z",
     "start_time": "2024-03-03T19:57:08.493353Z"
    }
   },
   "id": "ca5fc4c5a7c49d27",
   "execution_count": 30
  },
  {
   "cell_type": "code",
   "outputs": [
    {
     "data": {
      "text/plain": "{'ids': [['DA41.Z', 'DA41', 'DD90.Z', 'DD90', 'DA41.Y']],\n 'distances': [[551.697509765625,\n   748.6067504882812,\n   756.9035034179688,\n   898.1651000976562,\n   904.1014404296875]],\n 'metadatas': [[None, None, None, None, None]],\n 'embeddings': None,\n 'documents': [['Gastroduodenal motor or secretory disorders, unspecified',\n   'Gastroduodenal motor or secretory disorders',\n   'Functional oesophageal or gastroduodenal disorders, unspecified',\n   'Functional oesophageal or gastroduodenal disorders',\n   'Other specified gastroduodenal motor or secretory disorders']],\n 'uris': None,\n 'data': None}"
     },
     "execution_count": 31,
     "metadata": {},
     "output_type": "execute_result"
    }
   ],
   "source": [
    "# check the index\n",
    "embedding = extractor(\"- - - - Gastroduodenal motor or secretory disorders, unspecified\", return_tensors=True)[0].mean(dim=0).numpy().tolist()\n",
    "results = collection.query(query_embeddings=embedding, n_results=5)\n",
    "results"
   ],
   "metadata": {
    "collapsed": false,
    "ExecuteTime": {
     "end_time": "2024-03-03T21:30:13.394140Z",
     "start_time": "2024-03-03T21:30:13.275782Z"
    }
   },
   "id": "c10c28526f6a32a8",
   "execution_count": 31
  },
  {
   "cell_type": "code",
   "outputs": [],
   "source": [],
   "metadata": {
    "collapsed": false
   },
   "id": "d23f0d78644dc979"
  }
 ],
 "metadata": {
  "kernelspec": {
   "display_name": "Python 3",
   "language": "python",
   "name": "python3"
  },
  "language_info": {
   "codemirror_mode": {
    "name": "ipython",
    "version": 2
   },
   "file_extension": ".py",
   "mimetype": "text/x-python",
   "name": "python",
   "nbconvert_exporter": "python",
   "pygments_lexer": "ipython2",
   "version": "2.7.6"
  }
 },
 "nbformat": 4,
 "nbformat_minor": 5
}
