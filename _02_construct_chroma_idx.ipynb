{
 "cells": [
  {
   "cell_type": "code",
   "execution_count": 1,
   "id": "initial_id",
   "metadata": {
    "collapsed": true,
    "ExecuteTime": {
     "end_time": "2024-03-04T19:08:52.131662Z",
     "start_time": "2024-03-04T19:08:25.733413Z"
    }
   },
   "outputs": [],
   "source": [
    "import pandas as pd\n",
    "import chromadb\n",
    "from tqdm import tqdm\n",
    "from transformers import pipeline"
   ]
  },
  {
   "cell_type": "markdown",
   "source": [
    "# Initialize the client"
   ],
   "metadata": {
    "collapsed": false
   },
   "id": "5ffe183f84ad895"
  },
  {
   "cell_type": "code",
   "outputs": [],
   "source": [
    "client = chromadb.PersistentClient(path=\"idx/icd11\",\n",
    "                                   settings=chromadb.Settings(allow_reset=True))"
   ],
   "metadata": {
    "collapsed": false,
    "ExecuteTime": {
     "end_time": "2024-03-04T19:09:00.327694Z",
     "start_time": "2024-03-04T19:08:52.150661Z"
    }
   },
   "id": "36bfd5b9b53d5b09",
   "execution_count": 2
  },
  {
   "cell_type": "code",
   "outputs": [
    {
     "data": {
      "text/plain": "True"
     },
     "execution_count": 3,
     "metadata": {},
     "output_type": "execute_result"
    }
   ],
   "source": [
    "client.heartbeat()\n",
    "client.reset()"
   ],
   "metadata": {
    "collapsed": false,
    "ExecuteTime": {
     "end_time": "2024-03-04T19:09:07.883718Z",
     "start_time": "2024-03-04T19:09:00.328710Z"
    }
   },
   "id": "546e7cb3ef5d444d",
   "execution_count": 3
  },
  {
   "cell_type": "markdown",
   "source": [
    "# Load the data"
   ],
   "metadata": {
    "collapsed": false
   },
   "id": "b18610f0a761433b"
  },
  {
   "cell_type": "code",
   "outputs": [
    {
     "data": {
      "text/plain": "   Code                                              Title ClassKind  \\\n0                 Certain infectious or parasitic diseases   chapter   \n1        - Gastroenteritis or colitis of infectious origin     block   \n2                      - - Bacterial intestinal infections     block   \n3  1A00                                      - - - Cholera  category   \n4  1A01     - - - Intestinal infection due to other Vibrio  category   \n\n   DepthInKind  IsResidual                                        BrowserLink  \\\n0            1       False  https://icd.who.int/browse11/l-m/en#/http%3A%2...   \n1            1       False  https://icd.who.int/browse11/l-m/en#/http%3A%2...   \n2            2       False  https://icd.who.int/browse11/l-m/en#/http%3A%2...   \n3            1       False  https://icd.who.int/browse11/l-m/en#/http%3A%2...   \n4            1       False  https://icd.who.int/browse11/l-m/en#/http%3A%2...   \n\n   isLeaf  \n0   False  \n1   False  \n2   False  \n3    True  \n4    True  ",
      "text/html": "<div>\n<style scoped>\n    .dataframe tbody tr th:only-of-type {\n        vertical-align: middle;\n    }\n\n    .dataframe tbody tr th {\n        vertical-align: top;\n    }\n\n    .dataframe thead th {\n        text-align: right;\n    }\n</style>\n<table border=\"1\" class=\"dataframe\">\n  <thead>\n    <tr style=\"text-align: right;\">\n      <th></th>\n      <th>Code</th>\n      <th>Title</th>\n      <th>ClassKind</th>\n      <th>DepthInKind</th>\n      <th>IsResidual</th>\n      <th>BrowserLink</th>\n      <th>isLeaf</th>\n    </tr>\n  </thead>\n  <tbody>\n    <tr>\n      <th>0</th>\n      <td></td>\n      <td>Certain infectious or parasitic diseases</td>\n      <td>chapter</td>\n      <td>1</td>\n      <td>False</td>\n      <td>https://icd.who.int/browse11/l-m/en#/http%3A%2...</td>\n      <td>False</td>\n    </tr>\n    <tr>\n      <th>1</th>\n      <td></td>\n      <td>- Gastroenteritis or colitis of infectious origin</td>\n      <td>block</td>\n      <td>1</td>\n      <td>False</td>\n      <td>https://icd.who.int/browse11/l-m/en#/http%3A%2...</td>\n      <td>False</td>\n    </tr>\n    <tr>\n      <th>2</th>\n      <td></td>\n      <td>- - Bacterial intestinal infections</td>\n      <td>block</td>\n      <td>2</td>\n      <td>False</td>\n      <td>https://icd.who.int/browse11/l-m/en#/http%3A%2...</td>\n      <td>False</td>\n    </tr>\n    <tr>\n      <th>3</th>\n      <td>1A00</td>\n      <td>- - - Cholera</td>\n      <td>category</td>\n      <td>1</td>\n      <td>False</td>\n      <td>https://icd.who.int/browse11/l-m/en#/http%3A%2...</td>\n      <td>True</td>\n    </tr>\n    <tr>\n      <th>4</th>\n      <td>1A01</td>\n      <td>- - - Intestinal infection due to other Vibrio</td>\n      <td>category</td>\n      <td>1</td>\n      <td>False</td>\n      <td>https://icd.who.int/browse11/l-m/en#/http%3A%2...</td>\n      <td>True</td>\n    </tr>\n  </tbody>\n</table>\n</div>"
     },
     "execution_count": 4,
     "metadata": {},
     "output_type": "execute_result"
    }
   ],
   "source": [
    "icd = pd.read_csv(\"data/ICD-11-MMS-en-cleaned.csv.zip\").fillna('')\n",
    "icd.head()"
   ],
   "metadata": {
    "collapsed": false,
    "ExecuteTime": {
     "end_time": "2024-03-04T19:09:08.144346Z",
     "start_time": "2024-03-04T19:09:07.892715Z"
    }
   },
   "id": "7847532a2e705837",
   "execution_count": 4
  },
  {
   "cell_type": "code",
   "outputs": [
    {
     "data": {
      "text/plain": "['Certain infectious or parasitic diseases',\n 'Gastroenteritis or colitis of infectious origin',\n 'Bacterial intestinal infections',\n 'Cholera',\n 'Intestinal infection due to other Vibrio']"
     },
     "execution_count": 5,
     "metadata": {},
     "output_type": "execute_result"
    }
   ],
   "source": [
    "titles = icd[\"Title\"].tolist()\n",
    "titles = [t.lstrip('- ') for t in titles if t]\n",
    "titles[:5]"
   ],
   "metadata": {
    "collapsed": false,
    "ExecuteTime": {
     "end_time": "2024-03-04T19:09:08.167760Z",
     "start_time": "2024-03-04T19:09:08.147342Z"
    }
   },
   "id": "8fb96568d64f9f71",
   "execution_count": 5
  },
  {
   "cell_type": "code",
   "outputs": [
    {
     "data": {
      "text/plain": "(212, 30)"
     },
     "execution_count": 6,
     "metadata": {},
     "output_type": "execute_result"
    }
   ],
   "source": [
    "max_len_chars = max(len(t) for t in titles)\n",
    "max_len_words = max(len(t.split()) for t in titles)\n",
    "max_len_chars, max_len_words"
   ],
   "metadata": {
    "collapsed": false,
    "ExecuteTime": {
     "end_time": "2024-03-04T19:09:08.212008Z",
     "start_time": "2024-03-04T19:09:08.172756Z"
    }
   },
   "id": "75c7d914882c8982",
   "execution_count": 6
  },
  {
   "cell_type": "code",
   "outputs": [],
   "source": [
    "icd[\"cleaned_title\"] = icd[\"Title\"].str.lstrip('- ')"
   ],
   "metadata": {
    "collapsed": false,
    "ExecuteTime": {
     "end_time": "2024-03-04T19:09:08.242779Z",
     "start_time": "2024-03-04T19:09:08.216006Z"
    }
   },
   "id": "b5b096839c7f88d2",
   "execution_count": 7
  },
  {
   "cell_type": "markdown",
   "source": [
    "# Load the vectorizer\n",
    "Using the pipelines discussed in https://stackoverflow.com/questions/64685243/getting-sentence-embedding-from-huggingface-feature-extraction-pipeline"
   ],
   "metadata": {
    "collapsed": false
   },
   "id": "9d90f822a255bf85"
  },
  {
   "cell_type": "code",
   "outputs": [
    {
     "data": {
      "text/plain": "config.json:   0%|          | 0.00/744k [00:00<?, ?B/s]",
      "application/vnd.jupyter.widget-view+json": {
       "version_major": 2,
       "version_minor": 0,
       "model_id": "a23ebc597bbf424688f0423c0f3ac9ac"
      }
     },
     "metadata": {},
     "output_type": "display_data"
    },
    {
     "data": {
      "text/plain": "pytorch_model.bin:   0%|          | 0.00/482M [00:00<?, ?B/s]",
      "application/vnd.jupyter.widget-view+json": {
       "version_major": 2,
       "version_minor": 0,
       "model_id": "8c7823b4e4c0473c869b967e12589e40"
      }
     },
     "metadata": {},
     "output_type": "display_data"
    },
    {
     "data": {
      "text/plain": "tokenizer_config.json:   0%|          | 0.00/370 [00:00<?, ?B/s]",
      "application/vnd.jupyter.widget-view+json": {
       "version_major": 2,
       "version_minor": 0,
       "model_id": "724d428e95f34653ad8d6b5e05e0b8cc"
      }
     },
     "metadata": {},
     "output_type": "display_data"
    },
    {
     "data": {
      "text/plain": "vocab.txt:   0%|          | 0.00/213k [00:00<?, ?B/s]",
      "application/vnd.jupyter.widget-view+json": {
       "version_major": 2,
       "version_minor": 0,
       "model_id": "7d20f4a563924f4b8a0350037bb9c5d8"
      }
     },
     "metadata": {},
     "output_type": "display_data"
    },
    {
     "data": {
      "text/plain": "special_tokens_map.json:   0%|          | 0.00/112 [00:00<?, ?B/s]",
      "application/vnd.jupyter.widget-view+json": {
       "version_major": 2,
       "version_minor": 0,
       "model_id": "ffcf3efb15ab40d890035abaf1d01adf"
      }
     },
     "metadata": {},
     "output_type": "display_data"
    }
   ],
   "source": [
    "extractor = pipeline(model=\"AkshatSurolia/ICD-10-Code-Prediction\", task=\"feature-extraction\")"
   ],
   "metadata": {
    "collapsed": false,
    "ExecuteTime": {
     "end_time": "2024-03-04T19:09:57.357583Z",
     "start_time": "2024-03-04T19:09:08.244774Z"
    }
   },
   "id": "bb0d08211cbf9fe9",
   "execution_count": 8
  },
  {
   "cell_type": "code",
   "outputs": [
    {
     "data": {
      "text/plain": "torch.Size([1, 7, 768])"
     },
     "execution_count": 9,
     "metadata": {},
     "output_type": "execute_result"
    }
   ],
   "source": [
    "result = extractor(\"Bacterial intestinal infections\", return_tensors=True)\n",
    "result.shape"
   ],
   "metadata": {
    "collapsed": false,
    "ExecuteTime": {
     "end_time": "2024-03-04T19:09:58.697240Z",
     "start_time": "2024-03-04T19:09:57.359580Z"
    }
   },
   "id": "bd2874c60eabeac3",
   "execution_count": 9
  },
  {
   "cell_type": "code",
   "outputs": [
    {
     "data": {
      "text/plain": "torch.Size([768])"
     },
     "execution_count": 10,
     "metadata": {},
     "output_type": "execute_result"
    }
   ],
   "source": [
    "sentence_embedding = result[0].mean(dim=0)\n",
    "sentence_embedding.shape"
   ],
   "metadata": {
    "collapsed": false,
    "ExecuteTime": {
     "end_time": "2024-03-04T19:09:58.708155Z",
     "start_time": "2024-03-04T19:09:58.698237Z"
    }
   },
   "id": "21e9ff61d538a869",
   "execution_count": 10
  },
  {
   "cell_type": "code",
   "outputs": [
    {
     "data": {
      "text/plain": "torch.Size([768])"
     },
     "execution_count": 11,
     "metadata": {},
     "output_type": "execute_result"
    }
   ],
   "source": [
    "sentence_embedding2 = result[0][0]\n",
    "sentence_embedding2.shape"
   ],
   "metadata": {
    "collapsed": false,
    "ExecuteTime": {
     "end_time": "2024-03-04T19:09:58.717342Z",
     "start_time": "2024-03-04T19:09:58.710154Z"
    }
   },
   "id": "9bf3d83907063ba1",
   "execution_count": 11
  },
  {
   "cell_type": "markdown",
   "source": [
    "# Create the index"
   ],
   "metadata": {
    "collapsed": false
   },
   "id": "21b8ccb14aa0470e"
  },
  {
   "cell_type": "code",
   "outputs": [],
   "source": [
    "collection = client.create_collection(\n",
    "    name=\"icd11_titles\", \n",
    "    # metadata={\"hnsw:space\": \"cosine\"},\n",
    ")"
   ],
   "metadata": {
    "collapsed": false,
    "ExecuteTime": {
     "end_time": "2024-03-04T19:09:59.418847Z",
     "start_time": "2024-03-04T19:09:58.724343Z"
    }
   },
   "id": "43b7c3a388c91c4c",
   "execution_count": 12
  },
  {
   "cell_type": "code",
   "outputs": [
    {
     "name": "stderr",
     "output_type": "stream",
     "text": [
      "100%|██████████| 36044/36044 [40:41<00:00, 14.76it/s]  \n"
     ]
    }
   ],
   "source": [
    "# client.reset()\n",
    "docs = []\n",
    "ids = []\n",
    "embeddings = []\n",
    "\n",
    "def append_to_collection():\n",
    "    collection.upsert(documents=docs, ids=ids, embeddings=embeddings)\n",
    "    docs.clear()\n",
    "    ids.clear()\n",
    "    embeddings.clear()\n",
    "\n",
    "    \n",
    "for n, row in tqdm(icd.iterrows(), total=len(icd)):\n",
    "    if not row['Code']:\n",
    "        continue\n",
    "    docs.append(doc := row['cleaned_title'])\n",
    "    embeddings.append(extractor(doc, return_tensors=True)[0].mean(dim=0).numpy().tolist())\n",
    "    ids.append(row['Code'])\n",
    "    if len(docs) >= 1000:\n",
    "        append_to_collection()\n",
    "append_to_collection()"
   ],
   "metadata": {
    "collapsed": false,
    "ExecuteTime": {
     "end_time": "2024-03-04T19:57:18.421174Z",
     "start_time": "2024-03-04T19:16:33.296563Z"
    }
   },
   "id": "ca5fc4c5a7c49d27",
   "execution_count": 15
  },
  {
   "cell_type": "code",
   "outputs": [
    {
     "data": {
      "text/plain": "{'ids': [['DA41.Z', 'DA41', 'DD90.Z', 'DD90', 'DA41.Y']],\n 'distances': [[551.697509765625,\n   748.6067504882812,\n   756.9035034179688,\n   898.1651000976562,\n   904.1014404296875]],\n 'metadatas': [[None, None, None, None, None]],\n 'embeddings': None,\n 'documents': [['Gastroduodenal motor or secretory disorders, unspecified',\n   'Gastroduodenal motor or secretory disorders',\n   'Functional oesophageal or gastroduodenal disorders, unspecified',\n   'Functional oesophageal or gastroduodenal disorders',\n   'Other specified gastroduodenal motor or secretory disorders']],\n 'uris': None,\n 'data': None}"
     },
     "execution_count": 16,
     "metadata": {},
     "output_type": "execute_result"
    }
   ],
   "source": [
    "# check the index\n",
    "embedding = extractor(\"- - - - Gastroduodenal motor or secretory disorders, unspecified\", return_tensors=True)[0].mean(dim=0).numpy().tolist()\n",
    "results = collection.query(query_embeddings=embedding, n_results=5)\n",
    "results"
   ],
   "metadata": {
    "collapsed": false,
    "ExecuteTime": {
     "end_time": "2024-03-04T20:11:30.845667Z",
     "start_time": "2024-03-04T20:11:30.741669Z"
    }
   },
   "id": "c10c28526f6a32a8",
   "execution_count": 16
  },
  {
   "cell_type": "code",
   "outputs": [],
   "source": [],
   "metadata": {
    "collapsed": false,
    "ExecuteTime": {
     "end_time": "2024-03-04T19:11:30.047285Z",
     "start_time": "2024-03-04T19:11:30.047285Z"
    }
   },
   "id": "d23f0d78644dc979"
  }
 ],
 "metadata": {
  "kernelspec": {
   "display_name": "Python 3",
   "language": "python",
   "name": "python3"
  },
  "language_info": {
   "codemirror_mode": {
    "name": "ipython",
    "version": 2
   },
   "file_extension": ".py",
   "mimetype": "text/x-python",
   "name": "python",
   "nbconvert_exporter": "python",
   "pygments_lexer": "ipython2",
   "version": "2.7.6"
  }
 },
 "nbformat": 4,
 "nbformat_minor": 5
}
