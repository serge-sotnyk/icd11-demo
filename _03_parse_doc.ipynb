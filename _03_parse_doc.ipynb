{
 "cells": [
  {
   "cell_type": "code",
   "execution_count": 1,
   "id": "initial_id",
   "metadata": {
    "collapsed": true,
    "ExecuteTime": {
     "end_time": "2024-03-04T20:12:04.440297Z",
     "start_time": "2024-03-04T20:12:00.196041Z"
    }
   },
   "outputs": [],
   "source": [
    "from pathlib import Path\n",
    "\n",
    "import pandas as pd\n",
    "import chromadb\n",
    "from tqdm import tqdm\n",
    "from transformers import pipeline"
   ]
  },
  {
   "cell_type": "code",
   "outputs": [],
   "source": [],
   "metadata": {
    "collapsed": false,
    "ExecuteTime": {
     "end_time": "2024-03-04T20:12:04.445329Z",
     "start_time": "2024-03-04T20:12:04.441296Z"
    }
   },
   "id": "54584f6f9aff7e39",
   "execution_count": 1
  },
  {
   "cell_type": "markdown",
   "source": [
    "# Initialize the client"
   ],
   "metadata": {
    "collapsed": false
   },
   "id": "ac400d14517b198e"
  },
  {
   "cell_type": "code",
   "outputs": [],
   "source": [
    "client = chromadb.PersistentClient(path=\"idx/icd11\")"
   ],
   "metadata": {
    "collapsed": false,
    "ExecuteTime": {
     "end_time": "2024-03-04T20:12:04.796855Z",
     "start_time": "2024-03-04T20:12:04.446325Z"
    }
   },
   "id": "6fecca34a8d84630",
   "execution_count": 2
  },
  {
   "cell_type": "code",
   "outputs": [],
   "source": [],
   "metadata": {
    "collapsed": false,
    "ExecuteTime": {
     "end_time": "2024-03-04T20:12:04.802425Z",
     "start_time": "2024-03-04T20:12:04.797862Z"
    }
   },
   "id": "11c31610041ee94e",
   "execution_count": 2
  },
  {
   "cell_type": "markdown",
   "source": [
    "# Load the data"
   ],
   "metadata": {
    "collapsed": false
   },
   "id": "a1455d4fedc97e1c"
  },
  {
   "cell_type": "code",
   "outputs": [
    {
     "data": {
      "text/plain": "   Code                                              Title ClassKind  \\\n0                 Certain infectious or parasitic diseases   chapter   \n1        - Gastroenteritis or colitis of infectious origin     block   \n2                      - - Bacterial intestinal infections     block   \n3  1A00                                      - - - Cholera  category   \n4  1A01     - - - Intestinal infection due to other Vibrio  category   \n\n   DepthInKind  IsResidual                                        BrowserLink  \\\n0            1       False  https://icd.who.int/browse11/l-m/en#/http%3A%2...   \n1            1       False  https://icd.who.int/browse11/l-m/en#/http%3A%2...   \n2            2       False  https://icd.who.int/browse11/l-m/en#/http%3A%2...   \n3            1       False  https://icd.who.int/browse11/l-m/en#/http%3A%2...   \n4            1       False  https://icd.who.int/browse11/l-m/en#/http%3A%2...   \n\n   isLeaf  \n0   False  \n1   False  \n2   False  \n3    True  \n4    True  ",
      "text/html": "<div>\n<style scoped>\n    .dataframe tbody tr th:only-of-type {\n        vertical-align: middle;\n    }\n\n    .dataframe tbody tr th {\n        vertical-align: top;\n    }\n\n    .dataframe thead th {\n        text-align: right;\n    }\n</style>\n<table border=\"1\" class=\"dataframe\">\n  <thead>\n    <tr style=\"text-align: right;\">\n      <th></th>\n      <th>Code</th>\n      <th>Title</th>\n      <th>ClassKind</th>\n      <th>DepthInKind</th>\n      <th>IsResidual</th>\n      <th>BrowserLink</th>\n      <th>isLeaf</th>\n    </tr>\n  </thead>\n  <tbody>\n    <tr>\n      <th>0</th>\n      <td></td>\n      <td>Certain infectious or parasitic diseases</td>\n      <td>chapter</td>\n      <td>1</td>\n      <td>False</td>\n      <td>https://icd.who.int/browse11/l-m/en#/http%3A%2...</td>\n      <td>False</td>\n    </tr>\n    <tr>\n      <th>1</th>\n      <td></td>\n      <td>- Gastroenteritis or colitis of infectious origin</td>\n      <td>block</td>\n      <td>1</td>\n      <td>False</td>\n      <td>https://icd.who.int/browse11/l-m/en#/http%3A%2...</td>\n      <td>False</td>\n    </tr>\n    <tr>\n      <th>2</th>\n      <td></td>\n      <td>- - Bacterial intestinal infections</td>\n      <td>block</td>\n      <td>2</td>\n      <td>False</td>\n      <td>https://icd.who.int/browse11/l-m/en#/http%3A%2...</td>\n      <td>False</td>\n    </tr>\n    <tr>\n      <th>3</th>\n      <td>1A00</td>\n      <td>- - - Cholera</td>\n      <td>category</td>\n      <td>1</td>\n      <td>False</td>\n      <td>https://icd.who.int/browse11/l-m/en#/http%3A%2...</td>\n      <td>True</td>\n    </tr>\n    <tr>\n      <th>4</th>\n      <td>1A01</td>\n      <td>- - - Intestinal infection due to other Vibrio</td>\n      <td>category</td>\n      <td>1</td>\n      <td>False</td>\n      <td>https://icd.who.int/browse11/l-m/en#/http%3A%2...</td>\n      <td>True</td>\n    </tr>\n  </tbody>\n</table>\n</div>"
     },
     "execution_count": 3,
     "metadata": {},
     "output_type": "execute_result"
    }
   ],
   "source": [
    "icd = pd.read_csv(\"data/ICD-11-MMS-en-cleaned.csv.zip\").fillna('')\n",
    "icd.head()"
   ],
   "metadata": {
    "collapsed": false,
    "ExecuteTime": {
     "end_time": "2024-03-04T20:12:05.000505Z",
     "start_time": "2024-03-04T20:12:04.805437Z"
    }
   },
   "id": "7dbddc91ed44650c",
   "execution_count": 3
  },
  {
   "cell_type": "code",
   "outputs": [
    {
     "data": {
      "text/plain": "['Certain infectious or parasitic diseases',\n 'Gastroenteritis or colitis of infectious origin',\n 'Bacterial intestinal infections',\n 'Cholera',\n 'Intestinal infection due to other Vibrio']"
     },
     "execution_count": 4,
     "metadata": {},
     "output_type": "execute_result"
    }
   ],
   "source": [
    "titles = icd[\"Title\"].tolist()\n",
    "titles = [t.lstrip('- ') for t in titles if t]\n",
    "titles[:5]"
   ],
   "metadata": {
    "collapsed": false,
    "ExecuteTime": {
     "end_time": "2024-03-04T20:12:05.022155Z",
     "start_time": "2024-03-04T20:12:05.003512Z"
    }
   },
   "id": "40a7333912473f12",
   "execution_count": 4
  },
  {
   "cell_type": "code",
   "outputs": [
    {
     "data": {
      "text/plain": "(212, 30)"
     },
     "execution_count": 5,
     "metadata": {},
     "output_type": "execute_result"
    }
   ],
   "source": [
    "max_len_chars = max(len(t) for t in titles)\n",
    "max_len_words = max(len(t.split()) for t in titles)\n",
    "max_len_chars, max_len_words"
   ],
   "metadata": {
    "collapsed": false,
    "ExecuteTime": {
     "end_time": "2024-03-04T20:12:05.051238Z",
     "start_time": "2024-03-04T20:12:05.024165Z"
    }
   },
   "id": "a7dc6b80266ccfa6",
   "execution_count": 5
  },
  {
   "cell_type": "code",
   "outputs": [],
   "source": [
    "icd[\"cleaned_title\"] = icd[\"Title\"].str.lstrip('- ')"
   ],
   "metadata": {
    "collapsed": false,
    "ExecuteTime": {
     "end_time": "2024-03-04T20:12:05.078130Z",
     "start_time": "2024-03-04T20:12:05.055235Z"
    }
   },
   "id": "c2ab24cad856d760",
   "execution_count": 6
  },
  {
   "cell_type": "markdown",
   "source": [
    "# Load the vectorizer\n",
    "Using the pipelines discussed in https://stackoverflow.com/questions/64685243/getting-sentence-embedding-from-huggingface-feature-extraction-pipeline"
   ],
   "metadata": {
    "collapsed": false
   },
   "id": "97173b2eaf9a5ced"
  },
  {
   "cell_type": "code",
   "outputs": [],
   "source": [
    "extractor = pipeline(model=\"AkshatSurolia/ICD-10-Code-Prediction\", task=\"feature-extraction\")"
   ],
   "metadata": {
    "collapsed": false,
    "ExecuteTime": {
     "end_time": "2024-03-04T20:12:06.931527Z",
     "start_time": "2024-03-04T20:12:05.080140Z"
    }
   },
   "id": "e97a4b43998c2856",
   "execution_count": 7
  },
  {
   "cell_type": "code",
   "outputs": [
    {
     "data": {
      "text/plain": "torch.Size([1, 7, 768])"
     },
     "execution_count": 8,
     "metadata": {},
     "output_type": "execute_result"
    }
   ],
   "source": [
    "result = extractor(\"Bacterial intestinal infections\", return_tensors=True)\n",
    "result.shape"
   ],
   "metadata": {
    "collapsed": false,
    "ExecuteTime": {
     "end_time": "2024-03-04T20:12:07.933464Z",
     "start_time": "2024-03-04T20:12:06.932521Z"
    }
   },
   "id": "772abf96884f3980",
   "execution_count": 8
  },
  {
   "cell_type": "code",
   "outputs": [
    {
     "data": {
      "text/plain": "torch.Size([768])"
     },
     "execution_count": 9,
     "metadata": {},
     "output_type": "execute_result"
    }
   ],
   "source": [
    "sentence_embedding = result[0].mean(dim=0)\n",
    "sentence_embedding.shape"
   ],
   "metadata": {
    "collapsed": false,
    "ExecuteTime": {
     "end_time": "2024-03-04T20:12:07.941212Z",
     "start_time": "2024-03-04T20:12:07.934471Z"
    }
   },
   "id": "d512804eb4b045bd",
   "execution_count": 9
  },
  {
   "cell_type": "code",
   "outputs": [
    {
     "data": {
      "text/plain": "torch.Size([768])"
     },
     "execution_count": 10,
     "metadata": {},
     "output_type": "execute_result"
    }
   ],
   "source": [
    "sentence_embedding2 = result[0][0]\n",
    "sentence_embedding2.shape"
   ],
   "metadata": {
    "collapsed": false,
    "ExecuteTime": {
     "end_time": "2024-03-04T20:12:07.951002Z",
     "start_time": "2024-03-04T20:12:07.942220Z"
    }
   },
   "id": "b2acc97fb0c57663",
   "execution_count": 10
  },
  {
   "cell_type": "markdown",
   "source": [
    "# Load the index"
   ],
   "metadata": {
    "collapsed": false
   },
   "id": "987f50b07aefe866"
  },
  {
   "cell_type": "code",
   "outputs": [],
   "source": [
    "collection = client.get_collection(\n",
    "    name=\"icd11_titles\", \n",
    "    # metadata={\"hnsw:space\": \"cosine\"},\n",
    ")"
   ],
   "metadata": {
    "collapsed": false,
    "ExecuteTime": {
     "end_time": "2024-03-04T20:12:07.959191Z",
     "start_time": "2024-03-04T20:12:07.953001Z"
    }
   },
   "id": "78b138820ee24411",
   "execution_count": 11
  },
  {
   "cell_type": "markdown",
   "source": [
    "# Process the test document"
   ],
   "metadata": {
    "collapsed": false
   },
   "id": "e8008c26ed3704e"
  },
  {
   "cell_type": "code",
   "outputs": [
    {
     "name": "stdout",
     "output_type": "stream",
     "text": [
      "206\n"
     ]
    }
   ],
   "source": [
    "test_doc = Path(\"data/policy-example.txt\").read_text(encoding=\"utf-8\")\n",
    "lines = test_doc.splitlines()\n",
    "print(len(lines))"
   ],
   "metadata": {
    "collapsed": false,
    "ExecuteTime": {
     "end_time": "2024-03-04T20:12:07.972393Z",
     "start_time": "2024-03-04T20:12:07.962188Z"
    }
   },
   "id": "7a8d61317797b9a1",
   "execution_count": 12
  },
  {
   "cell_type": "code",
   "outputs": [
    {
     "name": "stdout",
     "output_type": "stream",
     "text": [
      "  1 Avsola® (infliximab‐axxq)\n",
      "   >['XM3MX3', 'XM1CT9', 'XM78P5']\n",
      "  2 Pharmacy Coverage Policy\n",
      "   >[]\n",
      "  3 Effective Date:  June 17, 2020\n",
      "   >[]\n",
      "  4 Revision Date:  January 25, 2023\n",
      "   >[]\n",
      "  5 Review Date:  January 18, 2023\n",
      "   >[]\n",
      "  6 Line of Business:  Medicaid ‐ South Carolina, Medicaid ‐ Ohio\n",
      "   >[]\n",
      "  7 Policy Type:  Prior AuthorizationPage: 1 of 8\n",
      "   >[]\n",
      "  8 Humana's documents are updated regularly online. When printed, the version of this document becomes uncontrolled. Do not rely on printed copies for the most up‐to date version.\n",
      "   >[]\n",
      "  9 Refer to http://apps.humana.com/tad/tad_new/home.aspx  to verify that this is the current version before utilizing.\n",
      "   >[]\n",
      " 10 Disclaimer Background\n",
      "   >[]\n",
      " 11 Description Medical Terms\n",
      "   >[]\n",
      " 12 Coverage Determination References\n",
      "   >[]\n",
      " 13 Disclaimer State and federal law, as well as contract language, including definitions and specific inclusions/exclusions, take precedence over clinical policy and must be considered first in determining eligibility for coverage. Coverage may also differ for our Medicare and/or Medicaid members based on any applicable Centers for Medicare & Medicaid Services (CMS) coverage statements including National Coverage Determinations (NCD), Local Medical Review Policies (LMRP) and/or Local Coverage Determinations. See the CMS website at  http://www.cms.hhs.gov/ . The member's health plan benefits in effect on the date services are rendered must be used. Clinical policy is not intended to pre‐empt the judgment of the reviewing medical director or dictate to health care providers how to practice medicine. Health care providers are expected to exercise their medical judgment in rendering appropriate care. Clinical technology is constantly evolving, and we reserve the right to review and update this policy periodically.  No part of this publication may be reproduced, stored in a retrieval system or transmitted, in any shape or form or by any means, electronic, mechanical, photocopying or otherwise without permission from Humana.\n",
      "   >[]\n",
      " 14 Description Avsola (infliximab‐axxq) is biosimilar to Remicade (infliximab). Infliximab neutralizes the biological activity of TNF‐α by binding to the soluble and transmembrane forms of TNF‐α therefore effectively inhibiting the binding of TNF‐α with its receptors.\n",
      "   >[]\n",
      " 15 \n",
      "   >[]\n",
      " 16 Avsola (infliximab‐axxq) is indicated for:\n",
      "   >['XM3MX3']\n",
      " 17 \n",
      "   >[]\n",
      " 18  Crohn's Disease\n",
      "   >['DD70', 'DD70.4', 'DD70.2']\n",
      " 19 reducing signs and symptoms and inducing and maintaining clinical remission in adult patients with moderately to severely active disease who have had an inadequate response to conventional therapy.\n",
      "   >['MA11']\n",
      " 20 reducing the number of draining enterocutaneous and rectovaginal fistulas and maintaining fistula closure in adult patients with fistulizing disease\n",
      "   >[]\n",
      " 21 \n",
      "   >[]\n",
      " 22 Pediatric Crohn's Disease\n",
      "   >['DD70', 'DD70.4', 'DD70.2']\n",
      " 23 reducing signs and symptoms and inducing and maintaining clinical remission in pediatric patients with moderately to severely active disease who have had an inadequate response to conventional therapy.\n",
      "   >['MA11', 'QA7Z']\n",
      " 24 \n",
      "   >[]\n",
      " 25 Ulcerative Colitis\n",
      "   >['DD71', 'DD71.Z', 'DD71.1', 'DD71.Y', 'DB33.43']\n",
      " 26 reducing signs and symptoms, inducing and maintaining clinical remission and mucosal healing, and eliminating corticosteroid use in adult patients with moderately to severely active disease who have had an inadequate response to conventional therapy.\n",
      "   >['MA11', 'MA13', 'QA7Y']\n",
      " 27 \n",
      "   >[]\n",
      " 28 Pediatric Ulcerative Colitis\n",
      "   >['DD71', 'DD71.1', 'DD71.Y', 'DD71.Z', 'DB33.43']\n",
      " 29 reducing signs and symptoms and inducing and maintaining clinical remission in pediatric patients with moderately to severely active disease who have had an inadequate response to conventional therapy.\n",
      "   >['MA11', 'QA7Z']\n",
      " 30 \n",
      "   >[]\n",
      " 31 Rheumatoid Arthritis in combination with methotrexate reducing signs and symptoms, inhibiting the progression of structural damage, and improving physical function in adult patients with moderately to severely active disease\n",
      "   >[]\n",
      " 32 \n",
      "   >[]\n",
      " 33 Ankylosing Spondylitis\n",
      "   >['DA07.61', 'FB00', 'FA34.4']\n",
      " 34 reducing signs and symptoms in adult patients with active disease\n",
      "   >[]\n",
      " 35 \n",
      "   >[]\n",
      " 36 Psoriatic Arthritis\n",
      "   >['FA21', 'FA21.Z', 'FA24.2', 'FA21.0']\n",
      " 37 reducing signs and symptoms of active arthritis, inhibiting progression of structural damage, and improving physical function in adult patients\n",
      "   >[]\n",
      " 38 \n",
      "   >[]\n",
      " 39 Plaque psoriasis\n",
      "   >['EA90.0', 'EA90.50', 'EA90.1', 'EA90.2', 'EA90']\n",
      " 40 treatment of adult patients with chronic severe (i.e. extensive and/or disabling) plaque psoriasis who are candidates for systemic therapy and when other systemic therapies are medically less appropriate.\n",
      "   >[]\n",
      " 41 \n",
      "   >[]\n",
      " 42 Avsola (infliximab‐axxq) is supplied as individually boxed‐single use vials as\n",
      "   >['XM2YG8']\n",
      " 43 100mg/20mL vial for IV injection.\n",
      "   >[]\n",
      " 44 Avsola® (infliximab‐axxq)\n",
      "   >['XM3MX3', 'XM1CT9', 'XM78P5']\n",
      " 45 Effective Date: 6/17/2020\n",
      "   >[]\n",
      " 46 Revision Date: 1/25/2023\n",
      "   >[]\n",
      " 47 Review Date: 1/18/2023\n",
      "   >[]\n",
      " 48 Line of Business:  Medicaid ‐ South Carolina, Medicaid ‐ Ohio\n",
      "   >[]\n",
      " 49 Policy Type: Prior Authorization\n",
      "   >[]\n",
      " 50 Humana's documents are updated regularly online. When printed, the version of this document becomes uncontrolled. Do not rely on printed copies for the most up‐to date version.\n",
      "   >[]\n",
      " 51 Refer to http://apps.humana.com/tad/tad_new/home.aspx  to verify that this is the current version before utilizing.Page: 2 of 8\n",
      "   >[]\n",
      " 52 See the DISCLAIMER . All Humana member health plan contracts are NOT the same. All legislation/regulations on this subject may not be included. This document is for informational purposes only.\n",
      "   >[]\n",
      " 53 Coverage\n",
      "   >[]\n",
      " 54 DeterminationPlease note the following regarding medically accepted indications:\n",
      "   >[]\n",
      " 55 All reasonable efforts have been made to ensure consideration of medically accepted indications in this policy. Medically accepted indications are defined by CMS as those uses of a covered Part D drug that are approved under the federal Food, Drug and Cosmetic Act, or the use of which is supported by one or more citations included or approved for inclusion in any of the compendia described in section 1927(g)(1)(B)(i) of the Act. These compendia guide review of off‐label and off‐evidence prescribing and are\n",
      "   >[]\n",
      " 56 subject to minimum evidence standards for each compendium. Currently, this review includes the following references when applicable and may be subject to change per CMS:\n",
      "   >[]\n",
      " 57 American Hospital Formulary Service‐Drug Information (AHFS‐DI)\n",
      "   >[]\n",
      " 58 National Comprehensive Cancer Network (NCCN) Drugs and Biologics Compendium\n",
      "   >[]\n",
      " 59 Truven Health Analytics Micromedex DrugDEX\n",
      "   >[]\n",
      " 60 Elsevier/Gold Standard Clinical Pharmacology\n",
      "   >[]\n",
      " 61 Wolters Kluwer Lexi‐Drugs\n",
      "   >[]\n",
      " 62 Avsola (infliximab‐axxq) will require prior authorization. This agent may be considered medically necessary when the following criteria are met:\n",
      "   >[]\n",
      " 63 Rheumatoid Arthritis\n",
      "   >['FA20', 'FA20.0', '1B41.10']\n",
      " 64 The member must have a diagnosis of moderately to severely active rheumatoid arthritis.\n",
      "   >[]\n",
      " 65 The member must be at least 18 years of age or older.\n",
      "   >[]\n",
      " 66 The member has failed to achieve symptom control (e.g. reduced joint pain, reduced joint swelling) or has intolerance with Inflectra.\n",
      "   >[]\n",
      " 67 The member must be on concomitant treatment with methotrexate during Avsola (infliximab‐axxq) therapy, unless contraindicated or intolerant to methotrexate.\n",
      "   >[]\n",
      " 68 \n",
      "   >[]\n",
      " 69 \n",
      "   >[]\n",
      " 70 Avsola® (infliximab‐axxq)\n",
      "   >['XM3MX3', 'XM1CT9', 'XM78P5']\n",
      " 71 Effective Date: 6/17/2020\n",
      "   >[]\n",
      " 72 Revision Date: 1/25/2023\n",
      "   >[]\n",
      " 73 Review Date: 1/18/2023\n",
      "   >[]\n",
      " 74 Line of Business:  Medicaid ‐ South Carolina, Medicaid ‐ Ohio\n",
      "   >[]\n",
      " 75 Policy Type: Prior Authorization\n",
      "   >[]\n",
      " 76 Humana's documents are updated regularly online. When printed, the version of this document becomes uncontrolled. Do not rely on printed copies for the most up‐to date version.\n",
      "   >[]\n",
      " 77 Refer to http://apps.humana.com/tad/tad_new/home.aspx  to verify that this is the current version before utilizing.Page: 3 of 8\n",
      "   >[]\n",
      " 78 See the DISCLAIMER . All Humana member health plan contracts are NOT the same. All legislation/regulations on this subject may not be included. This document is for informational purposes only.\n",
      "   >[]\n",
      " 79 Crohn's Disease (Non‐Fistulizing) and Ulcerative Colitis ‐ Adult\n",
      "   >[]\n",
      " 80 The member must have a diagnosis of moderate to severely active Crohn’s disease OR moderately to severely active ulcerative colitis .\n",
      "   >[]\n",
      " 81 The member must be at least 18 years of age.\n",
      "   >[]\n",
      " 82 The member has failed to achieve symptom control (e.g. improved liquid or soft stool, reduced abdominal pain, stable weight) or has intolerance with Inflectra.\n",
      "   >[]\n",
      " 83 \n",
      "   >[]\n",
      " 84 \n",
      "   >[]\n",
      " 85 Ankylosing Spondylitis\n",
      "   >['DA07.61', 'FB00', 'FA34.4']\n",
      " 86 The member must have a diagnosis of highly persistent, active ankylosing spondylitis.\n",
      "   >[]\n",
      " 87 The member must be at least 18 years of age or older.\n",
      "   >[]\n",
      " 88 The member has failed to achieve symptom control (e.g. reduced spinal pain, reduced inflammation) or has intolerance with Inflectra.\n",
      "   >[]\n",
      " 89 \n",
      "   >[]\n",
      " 90 Psoriatic Arthritis\n",
      "   >['FA21', 'FA21.Z', 'FA24.2', 'FA21.0']\n",
      " 91 The member must have a diagnosis of active psoriatic arthritis.\n",
      "   >[]\n",
      " 92 The member must be at least 18 years of age or older.\n",
      "   >[]\n",
      " 93 The member has failed to achieve symptom control (e.g. reduced joint pain or swelling, reduced erythema) or has intolerance with Inflectra.\n",
      "   >[]\n",
      " 94 Plaque Psoriasis\n",
      "   >['EA90.0', 'EA90.50', 'EA90.1', 'EA90.2', 'EA90']\n",
      " 95 The member must have a diagnosis of moderate to severe, extensive chronic plaque psoriasis.\n",
      "   >[]\n",
      " 96 The member must be at least 18 years of age.\n",
      "   >[]\n",
      " 97 Avsola® (infliximab‐axxq)\n",
      "   >['XM3MX3', 'XM1CT9', 'XM78P5']\n",
      " 98 Effective Date: 6/17/2020\n",
      "   >[]\n",
      " 99 Revision Date: 1/25/2023\n",
      "   >[]\n",
      "100 Review Date: 1/18/2023\n",
      "   >[]\n",
      "101 Line of Business:  Medicaid ‐ South Carolina, Medicaid ‐ Ohio\n",
      "   >[]\n",
      "102 Policy Type: Prior Authorization\n",
      "   >[]\n",
      "103 Humana's documents are updated regularly online. When printed, the version of this document becomes uncontrolled. Do not rely on printed copies for the most up‐to date version.\n",
      "   >[]\n",
      "104 Refer to http://apps.humana.com/tad/tad_new/home.aspx  to verify that this is the current version before utilizing.Page: 4 of 8\n",
      "   >[]\n",
      "105 See the DISCLAIMER . All Humana member health plan contracts are NOT the same. All legislation/regulations on this subject may not be included. This document is for informational purposes only.\n",
      "   >[]\n",
      "106 The member has failed to achieve symptom control (e.g. reduction in erythema, reduction of area of skin involved) or has intolerance with Inflectra.\n",
      "   >[]\n",
      "107 \n",
      "   >[]\n",
      "108 Crohn's Disease (Non‐Fistulizing) and Ulcerative Colitis ‐ Pediatric\n",
      "   >[]\n",
      "109 The member must have a diagnosis of moderately to severely active Crohn's disease OR moderately to severely active  ulcerative colitis.\n",
      "   >[]\n",
      "110 The member must be6 to 17 years of age.\n",
      "   >[]\n",
      "111 The member has failed to achieve symptom control (e.g. reduced stool frequency, reduced rectal bleeding) or has intolerance with Inflectra.\n",
      "   >[]\n",
      "112 Fistulizing Crohn's Disease\n",
      "   >['DD70', 'DD70.4']\n",
      "113 The member must have a diagnosis of Crohn’s disease with one or more draining fistulas.\n",
      "   >[]\n",
      "114 The member must be at least 18 years of age.\n",
      "   >[]\n",
      "115 The member has failed to achieve symptom control (e.g. improved liquid or soft stool, reduced abdominal pain, stable weight) or has intolerance with Inflectra.\n",
      "   >[]\n",
      "116 Avsola (infliximab‐axxq)  will be approved for plan year durations or as deemed appropriate by clinical review.\n",
      "   >['XM99Q5']\n",
      "117 Coverage\n",
      "   >[]\n",
      "118 LimitationsAvsola (infliximab‐axxq) therapy is not considered medically necessary for members with the following concomitant conditions:\n",
      "   >[]\n",
      "119 Avsola® (infliximab‐axxq)\n",
      "   >['XM3MX3', 'XM1CT9', 'XM78P5']\n",
      "120 Effective Date: 6/17/2020\n",
      "   >[]\n",
      "121 Revision Date: 1/25/2023\n",
      "   >[]\n",
      "122 Review Date: 1/18/2023\n",
      "   >[]\n",
      "123 Line of Business:  Medicaid ‐ South Carolina, Medicaid ‐ Ohio\n",
      "   >[]\n",
      "124 Policy Type: Prior Authorization\n",
      "   >[]\n",
      "125 Humana's documents are updated regularly online. When printed, the version of this document becomes uncontrolled. Do not rely on printed copies for the most up‐to date version.\n",
      "   >[]\n",
      "126 Refer to http://apps.humana.com/tad/tad_new/home.aspx  to verify that this is the current version before utilizing.Page: 5 of 8\n",
      "   >[]\n",
      "127 See the DISCLAIMER . All Humana member health plan contracts are NOT the same. All legislation/regulations on this subject may not be included. This document is for informational purposes only.\n",
      "   >[]\n",
      "128 Combination therapy with other biologics (e.g. Cosentyx, Enbrel, Humira, Kevzara, Remicade).\n",
      "   >[]\n",
      "129 Experimental/Investigational Use – Indications not supported by CMS recognized compendia or acceptable peer reviewed literature.\n",
      "   >[]\n",
      "130 Background This is a prior authorization policy about Avsola (infliximab‐axxq).\n",
      "   >[]\n",
      "131 \n",
      "   >[]\n",
      "132 Black Box Warnings:\n",
      "   >[]\n",
      "133 Increased risk of serious infections leading to hospitalization or death, including tuberculosis (TB), bacterial sepsis, invasive fungal infections (such as histoplasmosis) and infections due to other opportunistic pathogens.\n",
      "   >[]\n",
      "134 \n",
      "   >[]\n",
      "135 Discontinue Avsola (infliximab‐axxq) if a patient develops a serious infection.\n",
      "   >[]\n",
      "136 \n",
      "   >[]\n",
      "137 Perform test for latent TB; if positive, start treatment for TB prior to starting Avsola (infliximab‐axxq). Monitor all patients for active TB during treatment, even if initial latent TB test is negative.\n",
      "   >[]\n",
      "138 \n",
      "   >[]\n",
      "139 Lymphoma and other malignancies, some fatal, have been reported in children and adolescent patients treated with tumor necrosis factor (TNF) blockers, including infliximab products.\n",
      "   >[]\n",
      "140 \n",
      "   >[]\n",
      "141 Postmarketing cases of fatal hepatosplenic T‐cell lymphoma (HSTCL) have been reported with patients treated with TNF blockers including infliximab products. Almost all had received azathioprine or 6‐mercaptopurine concomitantly with a TNF‐blocker at or prior to diagnosis. The majority of cases were reported in patients with Crohn's disease or ulcerative colitis, most of whom were adolescent or young adult makes.\n",
      "   >[]\n",
      "142 \n",
      "   >[]\n",
      "143 Avsola (infliximab‐axxq) can cause and/or should not be used in patients with:\n",
      "   >[]\n",
      "144 Clinically important active infections\n",
      "   >[]\n",
      "145 Avsola® (infliximab‐axxq)\n",
      "   >['XM3MX3', 'XM1CT9', 'XM78P5']\n",
      "146 Effective Date: 6/17/2020\n",
      "   >[]\n",
      "147 Revision Date: 1/25/2023\n",
      "   >[]\n",
      "148 Review Date: 1/18/2023\n",
      "   >[]\n",
      "149 Line of Business:  Medicaid ‐ South Carolina, Medicaid ‐ Ohio\n",
      "   >[]\n",
      "150 Policy Type: Prior Authorization\n",
      "   >[]\n",
      "151 Humana's documents are updated regularly online. When printed, the version of this document becomes uncontrolled. Do not rely on printed copies for the most up‐to date version.\n",
      "   >[]\n",
      "152 Refer to http://apps.humana.com/tad/tad_new/home.aspx  to verify that this is the current version before utilizing.Page: 6 of 8\n",
      "   >[]\n",
      "153 See the DISCLAIMER . All Humana member health plan contracts are NOT the same. All legislation/regulations on this subject may not be included. This document is for informational purposes only.\n",
      "   >[]\n",
      "154 Medical Terms Avsola; infliximab‐axxq; Rheumatoid Arthritis; Crohn’s Disease; Ankylosing Spondylitis;\n",
      "   >[]\n",
      "155 Psoriatic Arthritis; Plaque Psoriasis; Ulcerative Colitis; Intravenous injection; pharmacyA history of tuberculosis, positive PPD\n",
      "   >[]\n",
      "156 Women who are pregnant or lactating\n",
      "   >[]\n",
      "157 Multiple sclerosis or other demyelinating events\n",
      "   >['8A60.B']\n",
      "158 Moderate to severe congestive heart failure\n",
      "   >[]\n",
      "159 Undifferentiated cytopenias\n",
      "   >[]\n",
      "160 Malignancies\n",
      "   >[]\n",
      "161 Neurologic events\n",
      "   >[]\n",
      "162 Hematologic Events\n",
      "   >[]\n",
      "163 Hepatosplenic T‐cell lymphomas\n",
      "   >['2A90.8', 'XH8D49', 'XH4W48', 'XH5761']\n",
      "164 Hepatitis B Virus reactivation\n",
      "   >['XN0GA', 'XN6BW', 'XN41M', 'XN7TG', 'XN1EZ']\n",
      "165 Hepatoxicity\n",
      "   >['XA0W19', 'XN41M']\n",
      "166 A known hypersensitivity to murine products or other components of the formulation.\n",
      "   >[]\n",
      "167 Hepatosplenic T‐cell Lymphoma – carefully assess the risk benefit especially if the patient has Crohn’s disease or ulcerative colitis, is male, and is receiving azathioprine\n",
      "   >[]\n",
      "168 or 6‐mercaptopurine treatment Demyelinating disease – consider stopping Renflexis (infliximab‐abda) if exacerbation or new onset occurs.\n",
      "   >[]\n",
      "169 Live vaccines‐ should not be given with Renflexis (infliximab‐abda). Bring pediatric patients up to date with all vaccinations prior to initiating Renflexis (infliximab‐abda).\n",
      "   >['XM3MX3']\n",
      "170 Cerebrovascular accidents, myocardial infarctions (some fatal), and arrhythmias have been reported during and within 24 hours of initiation of infliximab infusion.\n",
      "   >[]\n",
      "171 Monitor patients during infusion and discontinue if serious reaction occurs.\n",
      "   >[]\n",
      "172 \n",
      "   >[]\n",
      "173 Avsola (infliximab‐axxq) at doses >5 mg/kg should not be administered to patients with moderate to severe heart failure.\n",
      "   >['XM99Q5', 'XM4JT2', 'XM7T33']\n",
      "174 Provider\n",
      "   >[]\n",
      "175 Claims CodesFor medically billed requests, please visit  www.humana.com/PAL . Select applicable\n",
      "   >[]\n",
      "176 Preauthorization and Notification List(s) for medical and procedural coding information.\n",
      "   >[]\n",
      "177 Avsola® (infliximab‐axxq)\n",
      "   >['XM3MX3', 'XM1CT9', 'XM78P5']\n",
      "178 Effective Date: 6/17/2020\n",
      "   >[]\n",
      "179 Revision Date: 1/25/2023\n",
      "   >[]\n",
      "180 Review Date: 1/18/2023\n",
      "   >[]\n",
      "181 Line of Business:  Medicaid ‐ South Carolina, Medicaid ‐ Ohio\n",
      "   >[]\n",
      "182 Policy Type: Prior Authorization\n",
      "   >[]\n",
      "183 Humana's documents are updated regularly online. When printed, the version of this document becomes uncontrolled. Do not rely on printed copies for the most up‐to date version.\n",
      "   >[]\n",
      "184 Refer to http://apps.humana.com/tad/tad_new/home.aspx  to verify that this is the current version before utilizing.Page: 7 of 8\n",
      "   >[]\n",
      "185 See the DISCLAIMER . All Humana member health plan contracts are NOT the same. All legislation/regulations on this subject may not be included. This document is for informational purposes only.\n",
      "   >[]\n",
      "186 References\n",
      "   >[]\n",
      "187 1. Avsola [package insert]. Amgen Inc. Thousand Oaks, CA; September 2021.\n",
      "   >[]\n",
      "188 2. Clinical Pharmacology [database online]. Tampa, FL: Gold Standard, Inc.; URL:http://www.clinicalpharmacology.com. (Updated periodically).\n",
      "   >[]\n",
      "189 3. Fraenkel L, Bathon JM, et. al. 2021 American College of Rheumatology Guideline for the Treatment of Rheumatoid Arthritis. Arthritis and Research. 2021; DOI 10.1002/acr.24596\n",
      "   >[]\n",
      "190 4. Feurerstein JD, Isaacs KL, et. al. AGA Clinical Practice Guidelines on the Management of Moderate to Severe Ulcerative Colitis. Gastroenterology 2020. vol. 158, Issue 5, P1400‐1461.\n",
      "   >[]\n",
      "191 5. IBM Micromedex® DRUGDEX® (electronic version). Truven Health Analytics, Greenwood Village, Colorado, USA. Available at: http://www.micromedexsolutions.com/ (Updated periodically).\n",
      "   >[]\n",
      "192 6. Lichtenstein G, Loftus E, et al. ACG Clinical Guideline: Management of Crohn's Disease in Adults. American Journal of Gastroenterology 2018; 113;4:p481‐517.\n",
      "   >[]\n",
      "193 7. Menter A, Strober B, et al. Joint AAD‐NPF Guidelines of Care for the Management and Treatment of Psoriasis with biologics. Journal of the American Academy of Dermatology. 2019; 80;4:p1029‐1072.\n",
      "   >[]\n",
      "194 8. Singh JA, Guyatt G, et al. 2018 American College of Rheumatology/National Psoriasis Foundation Guideline for the Treatment of Psoriatic Arthritis. Arthritis and Rheumatology. 2019; 71;1:p5‐32.\n",
      "   >[]\n",
      "195 9. Singh JA, Saag KG, et al. 2015 American College of Rheumatology Guideline for the Treatment of Rheumatoid Arthritis. Arthritis Care and Research. 2015; DOI 10.1002/acr.22783\n",
      "   >[]\n",
      "196 10. Ward MM, Deodhar A, et al. 2019 Update of the American College of Rheumatology/Spondylitis Association of America/Spondyloarthritis Research and Treatment Network Recommendations for the Treatment of Ankylosing Spondylitis and Nonradiographic Axial Spondyloarthritis. Arthritis and Rheumatology 2019. 71;10:p1599‐613\n",
      "   >[]\n",
      "197 \n",
      "   >[]\n",
      "198 Avsola® (infliximab‐axxq)\n",
      "   >['XM3MX3', 'XM1CT9', 'XM78P5']\n",
      "199 Effective Date: 6/17/2020\n",
      "   >[]\n",
      "200 Revision Date: 1/25/2023\n",
      "   >[]\n",
      "201 Review Date: 1/18/2023\n",
      "   >[]\n",
      "202 Line of Business:  Medicaid ‐ South Carolina, Medicaid ‐ Ohio\n",
      "   >[]\n",
      "203 Policy Type: Prior Authorization\n",
      "   >[]\n",
      "204 Humana's documents are updated regularly online. When printed, the version of this document becomes uncontrolled. Do not rely on printed copies for the most up‐to date version.\n",
      "   >[]\n",
      "205 Refer to http://apps.humana.com/tad/tad_new/home.aspx  to verify that this is the current version before utilizing.Page: 8 of 8\n",
      "   >[]\n",
      "206 See the DISCLAIMER . All Humana member health plan contracts are NOT the same. All legislation/regulations on this subject may not be included. This document is for informational purposes only.\n",
      "   >[]\n"
     ]
    }
   ],
   "source": [
    "for n, line in enumerate(lines, 1):\n",
    "    embedding = extractor(line, return_tensors=True)[0].mean(dim=0).numpy().tolist()\n",
    "    results = collection.query(query_embeddings=embedding, n_results=5)\n",
    "    print(f\"{n:3d} {line}\")\n",
    "    codes = [c for c, d in zip(results[\"ids\"][0], results[\"distances\"][0]) if d < 1000]\n",
    "    print(f\"   >{codes}\")"
   ],
   "metadata": {
    "collapsed": false,
    "ExecuteTime": {
     "end_time": "2024-03-04T20:12:21.637121Z",
     "start_time": "2024-03-04T20:12:07.975407Z"
    }
   },
   "id": "7f7bcf469593e34a",
   "execution_count": 13
  },
  {
   "cell_type": "code",
   "outputs": [],
   "source": [],
   "metadata": {
    "collapsed": false,
    "ExecuteTime": {
     "end_time": "2024-03-04T20:12:21.641294Z",
     "start_time": "2024-03-04T20:12:21.638116Z"
    }
   },
   "id": "ec395b2633e0bb63",
   "execution_count": 13
  }
 ],
 "metadata": {
  "kernelspec": {
   "display_name": "Python 3",
   "language": "python",
   "name": "python3"
  },
  "language_info": {
   "codemirror_mode": {
    "name": "ipython",
    "version": 2
   },
   "file_extension": ".py",
   "mimetype": "text/x-python",
   "name": "python",
   "nbconvert_exporter": "python",
   "pygments_lexer": "ipython2",
   "version": "2.7.6"
  }
 },
 "nbformat": 4,
 "nbformat_minor": 5
}
